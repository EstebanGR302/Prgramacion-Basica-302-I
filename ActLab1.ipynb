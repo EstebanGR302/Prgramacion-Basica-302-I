{
  "nbformat": 4,
  "nbformat_minor": 0,
  "metadata": {
    "colab": {
      "provenance": [],
      "authorship_tag": "ABX9TyNo4JHIpM1NkFwEBCYBYHG5",
      "include_colab_link": true
    },
    "kernelspec": {
      "name": "python3",
      "display_name": "Python 3"
    },
    "language_info": {
      "name": "python"
    }
  },
  "cells": [
    {
      "cell_type": "markdown",
      "metadata": {
        "id": "view-in-github",
        "colab_type": "text"
      },
      "source": [
        "<a href=\"https://colab.research.google.com/github/EstebanGR302/Prgramacion-Basica-302-I/blob/main/ActLab1.ipynb\" target=\"_parent\"><img src=\"https://colab.research.google.com/assets/colab-badge.svg\" alt=\"Open In Colab\"/></a>"
      ]
    },
    {
      "cell_type": "markdown",
      "source": [
        "Actividad del laboratorio 1 impresion de mensajes"
      ],
      "metadata": {
        "id": "7c2Ej8LNxsVv"
      }
    },
    {
      "cell_type": "markdown",
      "source": [
        "PB302_1.cpp Programa para Bienvenida"
      ],
      "metadata": {
        "id": "4x7DhNRmmWKo"
      }
    },
    {
      "cell_type": "code",
      "execution_count": 15,
      "metadata": {
        "colab": {
          "base_uri": "https://localhost:8080/"
        },
        "id": "V4WeQ4BClsy-",
        "outputId": "00034dd4-8e20-41c4-bab5-718cf67f005d"
      },
      "outputs": [
        {
          "output_type": "stream",
          "name": "stdout",
          "text": [
            "Overwriting PB302_1.cpp\n"
          ]
        }
      ],
      "source": [
        "%%writefile PB302_1.cpp\n",
        "//Programa para imprimir mensaje de bienvenida\n",
        "//Creado por Esteban Iram Gamboa Rodriguez\n",
        "//Fecha: 15/Septiembre/2025\n",
        "//PB302_1.cpp\n",
        "#include <iostream>\n",
        "using namespace std;\n",
        "int main()\n",
        "{\n",
        " cout<<\"Bienvenido Esteban a Programacion Basica en C++\\n\";\n",
        " cout<<\"Gracias por Programar en Clase\";\n",
        " return 0;\n",
        "}\n",
        "\n",
        "\n"
      ]
    },
    {
      "cell_type": "code",
      "source": [
        "!g++ PB302_1.cpp -o PB302_1\n",
        "!./PB302_1"
      ],
      "metadata": {
        "colab": {
          "base_uri": "https://localhost:8080/"
        },
        "id": "RBxiydUbp7mm",
        "outputId": "de67ff92-2b70-4251-988a-d823620ef9d4"
      },
      "execution_count": 16,
      "outputs": [
        {
          "output_type": "stream",
          "name": "stdout",
          "text": [
            "Bienvenido Esteban a Programacion Basica en C++\n",
            "Gracias por Programar en Clase"
          ]
        }
      ]
    }
  ]
}