{
  "nbformat": 4,
  "nbformat_minor": 0,
  "metadata": {
    "colab": {
      "provenance": [],
      "authorship_tag": "ABX9TyM5Iei6xD3Swa3ZU/PuzAxp",
      "include_colab_link": true
    },
    "kernelspec": {
      "name": "python3",
      "display_name": "Python 3"
    },
    "language_info": {
      "name": "python"
    }
  },
  "cells": [
    {
      "cell_type": "markdown",
      "metadata": {
        "id": "view-in-github",
        "colab_type": "text"
      },
      "source": [
        "<a href=\"https://colab.research.google.com/github/EstebanGR302/Prgramacion-Basica-302-I/blob/main/Actlab%20302/ActLab%201/ActLab1.ipynb\" target=\"_parent\"><img src=\"https://colab.research.google.com/assets/colab-badge.svg\" alt=\"Open In Colab\"/></a>"
      ]
    },
    {
      "cell_type": "markdown",
      "source": [
        "Actividad del laboratorio 1 impresion de mensajes"
      ],
      "metadata": {
        "id": "7c2Ej8LNxsVv"
      }
    },
    {
      "cell_type": "markdown",
      "source": [
        "PB302_1.cpp Programa para Bienvenida"
      ],
      "metadata": {
        "id": "4x7DhNRmmWKo"
      }
    },
    {
      "cell_type": "code",
      "execution_count": 4,
      "metadata": {
        "colab": {
          "base_uri": "https://localhost:8080/"
        },
        "id": "V4WeQ4BClsy-",
        "outputId": "70f5962e-238f-4e3f-ad6d-057a3018548a"
      },
      "outputs": [
        {
          "output_type": "stream",
          "name": "stdout",
          "text": [
            "Writing PB302_1.cpp\n"
          ]
        }
      ],
      "source": [
        "%%writefile PB302_1.cpp\n",
        "//Programa para imprimir mensaje de bienvenida\n",
        "//Creado por Esteban Iram Gamboa Rodriguez\n",
        "//Fecha: 15/Septiembre/2025\n",
        "//PB302_1.cpp\n",
        "#include <iostream>\n",
        "using namespace std;\n",
        "int main()\n",
        "{\n",
        " cout<<\"Bienvenido Esteban a Programacion Basica en C++\\n\";\n",
        " cout<<\"Gracias por Programar en Clase\";\n",
        " return 0;\n",
        "}\n",
        "\n",
        "\n"
      ]
    },
    {
      "cell_type": "code",
      "source": [
        "!g++ PB302_1.cpp -o PB302_1\n",
        "!./PB302_1"
      ],
      "metadata": {
        "colab": {
          "base_uri": "https://localhost:8080/"
        },
        "id": "RBxiydUbp7mm",
        "outputId": "c00dc436-0ff1-4d87-ef4c-171097f4dad4"
      },
      "execution_count": 5,
      "outputs": [
        {
          "output_type": "stream",
          "name": "stdout",
          "text": [
            "Bienvenido Esteban a Programacion Basica en C++\n",
            "Gracias por Programar en Clase"
          ]
        }
      ]
    },
    {
      "cell_type": "markdown",
      "source": [
        "PB302_2.cpp Programa Datos Personales"
      ],
      "metadata": {
        "id": "Ji12vqF5qzGo"
      }
    },
    {
      "cell_type": "code",
      "source": [
        "%%writefile PB302_2.cpp\n",
        "//Programa para Mostrar datos personales\n",
        "//Creado por Esteban Iram Gamboa Rodriguez\n",
        "//Fecha:18/Septiembre/2025\n",
        "//PB302_2.cpp\n",
        "#include <iostream>\n",
        "using namespace std;\n",
        "int main()\n",
        "{\n",
        "  char nombre[10]=\"Esteban\";\n",
        "  char paterno[10]=\"Gamboa\";\n",
        "  char materno[10]=\"Rodriguez\";\n",
        "  int edad=16;\n",
        "  char direccion[30]=\"Senderos de san isidro\";\n",
        "  char fechanac[10]=\"13/01/09\";\n",
        "  char ciudadnac[10]=\"Cd juarez\";\n",
        "  cout<<\"Tu Nombre completo:\\n\";\n",
        "  cout<<nombre<<\"\\n\";\n",
        "  cout<<paterno<<\"\\n\";\n",
        "  cout<<materno<<\"\\n\";\n",
        "  cout<<edad<<\"\\n\";\n",
        "  cout<<direccion<<\"\\n\";\n",
        "  cout<<fechanac<<\"\\n\";\n",
        "  cout<<ciudadnac<<\"\\n\";\n",
        "  return 0;\n",
        "}"
      ],
      "metadata": {
        "colab": {
          "base_uri": "https://localhost:8080/"
        },
        "id": "jAb02U-erBtx",
        "outputId": "393fb5c9-7ca4-4093-d473-88f92f1d4492"
      },
      "execution_count": 41,
      "outputs": [
        {
          "output_type": "stream",
          "name": "stdout",
          "text": [
            "Overwriting PB302_2.cpp\n"
          ]
        }
      ]
    },
    {
      "cell_type": "code",
      "source": [
        "!g++ PB302_2.cpp -o PB302_2.exe\n",
        "!./PB302_2.exe"
      ],
      "metadata": {
        "colab": {
          "base_uri": "https://localhost:8080/"
        },
        "id": "q5ET8avMwkdk",
        "outputId": "4ba4cd92-4cb5-4430-ff57-67713c6a9064"
      },
      "execution_count": 42,
      "outputs": [
        {
          "output_type": "stream",
          "name": "stdout",
          "text": [
            "Tu Nombre completo:\n",
            "Esteban\n",
            "Gamboa\n",
            "Rodriguez\n",
            "16\n",
            "Senderos de san isidro\n",
            "13/01/09\n",
            "Cd juarez\n"
          ]
        }
      ]
    }
  ]
}